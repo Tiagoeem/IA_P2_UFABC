{
 "cells": [
  {
   "cell_type": "markdown",
   "metadata": {},
   "source": [
    "3 - Considere um problema de classificação bidimensional"
   ]
  },
  {
   "cell_type": "code",
   "execution_count": 18,
   "metadata": {},
   "outputs": [
    {
     "data": {
      "text/plain": [
       "<module 'matplotlib.pyplot' from 'C:\\\\Users\\\\Tiago-note\\\\Anaconda3\\\\lib\\\\site-packages\\\\matplotlib\\\\pyplot.py'>"
      ]
     },
     "execution_count": 18,
     "metadata": {},
     "output_type": "execute_result"
    },
    {
     "data": {
      "image/png": "[encoded data removed]",
      "text/plain": [
       "<Figure size 432x288 with 1 Axes>"
      ]
     },
     "metadata": {
      "needs_background": "light"
     },
     "output_type": "display_data"
    }
   ],
   "source": [
    "#importanto função para auxiliar na geração de dados não separaveis linearmente\n",
    "from sklearn.datasets import make_moons\n",
    "from matplotlib import pyplot\n",
    "from pandas import DataFrame\n",
    "\n",
    "# Gerando dataset não linear\n",
    "X, y = make_moons(n_samples=1000, noise=0.13)\n",
    "# scatter plot, dots colored by class value\n",
    "df_data = DataFrame(dict(x=X[:,0], y=X[:,1], label=y))\n",
    "colors = {0:'red', 1:'blue'}\n",
    "fig, ax = pyplot.subplots()\n",
    "df_agrupado = df_data.groupby('label')\n",
    "for key, group in df_agrupado:\n",
    "    group.plot(ax=ax, kind='scatter', x='x', y='y', label=key, color=colors[key])\n",
    "    \n",
    "    \n",
    "pyplot"
   ]
  },
  {
   "cell_type": "code",
   "execution_count": 19,
   "metadata": {},
   "outputs": [],
   "source": [
    "#O MLP precisa ser feito na mão?????? Oo\n",
    "#Se sim me desculpe, vou usar o MLP do sklearn"
   ]
  },
  {
   "cell_type": "code",
   "execution_count": 23,
   "metadata": {},
   "outputs": [
    {
     "data": {
      "text/html": [
       "<div>\n",
       "<style scoped>\n",
       "    .dataframe tbody tr th:only-of-type {\n",
       "        vertical-align: middle;\n",
       "    }\n",
       "\n",
       "    .dataframe tbody tr th {\n",
       "        vertical-align: top;\n",
       "    }\n",
       "\n",
       "    .dataframe thead th {\n",
       "        text-align: right;\n",
       "    }\n",
       "</style>\n",
       "<table border=\"1\" class=\"dataframe\">\n",
       "  <thead>\n",
       "    <tr style=\"text-align: right;\">\n",
       "      <th></th>\n",
       "      <th>x</th>\n",
       "      <th>y</th>\n",
       "      <th>label</th>\n",
       "    </tr>\n",
       "  </thead>\n",
       "  <tbody>\n",
       "    <tr>\n",
       "      <th>0</th>\n",
       "      <td>0.519463</td>\n",
       "      <td>-0.444063</td>\n",
       "      <td>1</td>\n",
       "    </tr>\n",
       "    <tr>\n",
       "      <th>1</th>\n",
       "      <td>1.817789</td>\n",
       "      <td>-0.279317</td>\n",
       "      <td>1</td>\n",
       "    </tr>\n",
       "    <tr>\n",
       "      <th>2</th>\n",
       "      <td>1.270416</td>\n",
       "      <td>-0.209937</td>\n",
       "      <td>1</td>\n",
       "    </tr>\n",
       "    <tr>\n",
       "      <th>3</th>\n",
       "      <td>-1.267157</td>\n",
       "      <td>0.046357</td>\n",
       "      <td>0</td>\n",
       "    </tr>\n",
       "    <tr>\n",
       "      <th>4</th>\n",
       "      <td>0.261081</td>\n",
       "      <td>-0.008428</td>\n",
       "      <td>1</td>\n",
       "    </tr>\n",
       "    <tr>\n",
       "      <th>5</th>\n",
       "      <td>0.917016</td>\n",
       "      <td>-0.330999</td>\n",
       "      <td>1</td>\n",
       "    </tr>\n",
       "    <tr>\n",
       "      <th>6</th>\n",
       "      <td>-0.233529</td>\n",
       "      <td>0.837446</td>\n",
       "      <td>0</td>\n",
       "    </tr>\n",
       "    <tr>\n",
       "      <th>7</th>\n",
       "      <td>0.662456</td>\n",
       "      <td>0.842737</td>\n",
       "      <td>0</td>\n",
       "    </tr>\n",
       "    <tr>\n",
       "      <th>8</th>\n",
       "      <td>-0.854239</td>\n",
       "      <td>0.616023</td>\n",
       "      <td>0</td>\n",
       "    </tr>\n",
       "    <tr>\n",
       "      <th>9</th>\n",
       "      <td>0.920702</td>\n",
       "      <td>0.394566</td>\n",
       "      <td>0</td>\n",
       "    </tr>\n",
       "  </tbody>\n",
       "</table>\n",
       "</div>"
      ],
      "text/plain": [
       "          x         y  label\n",
       "0  0.519463 -0.444063      1\n",
       "1  1.817789 -0.279317      1\n",
       "2  1.270416 -0.209937      1\n",
       "3 -1.267157  0.046357      0\n",
       "4  0.261081 -0.008428      1\n",
       "5  0.917016 -0.330999      1\n",
       "6 -0.233529  0.837446      0\n",
       "7  0.662456  0.842737      0\n",
       "8 -0.854239  0.616023      0\n",
       "9  0.920702  0.394566      0"
      ]
     },
     "execution_count": 23,
     "metadata": {},
     "output_type": "execute_result"
    }
   ],
   "source": [
    "df_agrupado.head()"
   ]
  },
  {
   "cell_type": "code",
   "execution_count": 26,
   "metadata": {},
   "outputs": [],
   "source": [
    "y = df_data['label']\n",
    "x = df_data.drop(['label'], axis=1)"
   ]
  },
  {
   "cell_type": "code",
   "execution_count": 50,
   "metadata": {},
   "outputs": [],
   "source": [
    "from sklearn.neural_network import MLPClassifier\n",
    "from sklearn.model_selection import train_test_split\n",
    "from sklearn.metrics import accuracy_score\n",
    "\n",
    "#separação dos dados de treino e teste\n",
    "x_train, x_test, y_train, y_test = train_test_split(x,y, test_size= 0.40, random_state=35)"
   ]
  },
  {
   "cell_type": "code",
   "execution_count": 51,
   "metadata": {},
   "outputs": [
    {
     "name": "stdout",
     "output_type": "stream",
     "text": [
      "1 Hidden Layers - 2 neuronios: 0.47\n"
     ]
    }
   ],
   "source": [
    "# 1 hidden layers com 2 neuronios\n",
    "classificador = MLPClassifier( solver='sgd', alpha=1e-5, hidden_layer_sizes=(2), max_iter=5000, random_state=1 )\n",
    "#treinando\n",
    "classificador.fit(x_train,y_train)\n",
    "\n",
    "#realizando a predição para poder verificar o score do modelo\n",
    "y_predicao1 = classificador.predict( x_test )\n",
    "\n",
    "#claculando o score\n",
    "score_1_2 = accuracy_score(y_test, y_predicao1)\n",
    "\n",
    "print( '1 Hidden Layers - 2 neuronios: ' + str(score_1_2))"
   ]
  },
  {
   "cell_type": "code",
   "execution_count": 52,
   "metadata": {},
   "outputs": [
    {
     "name": "stdout",
     "output_type": "stream",
     "text": [
      "1 Hidden Layers - 5 neuronios: 0.88\n"
     ]
    }
   ],
   "source": [
    "# 1 hidden layers com 5 neuronios\n",
    "classificador = MLPClassifier( solver='sgd', alpha=1e-5, hidden_layer_sizes=(5,), max_iter=5000, random_state=1 )\n",
    "#treinando\n",
    "classificador.fit(x_train,y_train)\n",
    "\n",
    "#realizando a predição para poder verificar o score do modelo\n",
    "y_predicao2 = classificador.predict( x_test )\n",
    "\n",
    "#claculando o score\n",
    "score_1_5 = accuracy_score(y_test, y_predicao2)\n",
    "\n",
    "print( '1 Hidden Layers - 5 neuronios: ' + str(score_1_5))\n"
   ]
  },
  {
   "cell_type": "code",
   "execution_count": 53,
   "metadata": {},
   "outputs": [
    {
     "name": "stdout",
     "output_type": "stream",
     "text": [
      "2 Hidden Layers - 5 neuronios: 0.89\n"
     ]
    }
   ],
   "source": [
    "# 2 hidden layers com 5 neuronios\n",
    "classificador = MLPClassifier( solver='sgd', alpha=1e-5, hidden_layer_sizes=(5, 5), max_iter=5000, random_state=1 )\n",
    "#treinando\n",
    "classificador.fit(x_train,y_train)\n",
    "\n",
    "#realizando a predição para poder verificar o score do modelo\n",
    "y_predicao3 = classificador.predict( x_test )\n",
    "\n",
    "#claculando o score\n",
    "score_2_5 = accuracy_score(y_test, y_predicao3)\n",
    "\n",
    "print( '2 Hidden Layers - 5 neuronios: ' + str(score_2_5))"
   ]
  },
  {
   "cell_type": "code",
   "execution_count": 54,
   "metadata": {},
   "outputs": [
    {
     "name": "stdout",
     "output_type": "stream",
     "text": [
      "2 Hidden Layers - 9 neuronios: 0.97\n"
     ]
    }
   ],
   "source": [
    "# 2 hidden layers com 9 neuronios\n",
    "classificador = MLPClassifier( solver='sgd', alpha=1e-5, hidden_layer_sizes=(9, 9), max_iter=5000, random_state=1 )\n",
    "#treinando\n",
    "classificador.fit(x_train,y_train)\n",
    "\n",
    "#realizando a predição para poder verificar o score do modelo\n",
    "y_predicao4 = classificador.predict( x_test )\n",
    "\n",
    "#claculando o score\n",
    "score_2_9 = accuracy_score(y_test, y_predicao4)\n",
    "\n",
    "print( '2 Hidden Layers - 9 neuronios: ' + str(score_2_9))"
   ]
  },
  {
   "cell_type": "code",
   "execution_count": 76,
   "metadata": {},
   "outputs": [
    {
     "name": "stdout",
     "output_type": "stream",
     "text": [
      "2 Hidden Layers - 30 neuronios: 0.97\n"
     ]
    }
   ],
   "source": [
    "# 2 hidden layers com 30 neuronios\n",
    "classificador = MLPClassifier( solver='sgd', alpha=1e-5, hidden_layer_sizes=(30, 30), max_iter=5000, random_state=1 )\n",
    "#treinando\n",
    "classificador.fit(x_train,y_train)\n",
    "\n",
    "#realizando a predição para poder verificar o score do modelo\n",
    "y_predicao5 = classificador.predict( x_test )\n",
    "\n",
    "#claculando o score\n",
    "score_2_30 = accuracy_score(y_test, y_predicao5)\n",
    "\n",
    "print( '2 Hidden Layers - 30 neuronios: ' + str(score_2_30))"
   ]
  },
  {
   "cell_type": "markdown",
   "metadata": {},
   "source": [
    "Foram gerados 5 MLPs diferentes para 1000 objetos:\n",
    "- (2)\n",
    "- (5)\n",
    "- (5,5)\n",
    "- (9,9)\n",
    "- (30,30)\n",
    "\n",
    "A seguir estão apresentados os valores do score e os erros apresentados na forma de matriz de confusão para cada um dos MLPs:"
   ]
  },
  {
   "cell_type": "code",
   "execution_count": 77,
   "metadata": {},
   "outputs": [
    {
     "name": "stdout",
     "output_type": "stream",
     "text": [
      "1 Hidden Layers - 2 neuronios: 0.47\n",
      "1 Hidden Layers - 5 neuronios: 0.88\n",
      "2 Hidden Layers - 5 neuronios: 0.89\n",
      "2 Hidden Layers - 9 neuronios: 0.97\n",
      "2 Hidden Layers - 30 neuronios: 0.97\n"
     ]
    }
   ],
   "source": [
    "#score de todos modelos\n",
    "print( '1 Hidden Layers - 2 neuronios: ' + str(score_1_2))\n",
    "print( '1 Hidden Layers - 5 neuronios: ' + str(score_1_5))\n",
    "print( '2 Hidden Layers - 5 neuronios: ' + str(score_2_5))\n",
    "print( '2 Hidden Layers - 9 neuronios: ' + str(score_2_9))\n",
    "print( '2 Hidden Layers - 30 neuronios: ' + str(score_2_30))"
   ]
  },
  {
   "cell_type": "markdown",
   "metadata": {},
   "source": [
    "Podemos observar que não adiantar aumentar o número de neuronios acima de 9."
   ]
  },
  {
   "cell_type": "markdown",
   "metadata": {},
   "source": [
    "A seguir podemos observar a matrix de confusão para ter um maior detalhamento do erros de classificação obtidos por cada um dos modelos"
   ]
  },
  {
   "cell_type": "code",
   "execution_count": 78,
   "metadata": {},
   "outputs": [
    {
     "name": "stdout",
     "output_type": "stream",
     "text": [
      "1 Hidden Layers - 2 neuronios: 0.47\n",
      "MATRIX CONFUSÃO\n",
      "[[188   0]\n",
      " [212   0]]\n"
     ]
    }
   ],
   "source": [
    "#matrizes de confusão\n",
    "from sklearn.metrics import confusion_matrix\n",
    "\n",
    "mc = confusion_matrix(y_test, y_predicao1)\n",
    "print( '1 Hidden Layers - 2 neuronios: ' + str(score_1_2))\n",
    "print( 'MATRIX CONFUSÃO')\n",
    "print( str(mc))"
   ]
  },
  {
   "cell_type": "code",
   "execution_count": 79,
   "metadata": {},
   "outputs": [
    {
     "name": "stdout",
     "output_type": "stream",
     "text": [
      "1 Hidden Layers - 5 neuronios: 0.88\n",
      "MATRIX CONFUSÃO\n",
      "[[171  17]\n",
      " [ 31 181]]\n"
     ]
    }
   ],
   "source": [
    "mc = confusion_matrix(y_test, y_predicao2)\n",
    "print( '1 Hidden Layers - 5 neuronios: ' + str(score_1_5))\n",
    "print( 'MATRIX CONFUSÃO')\n",
    "print( str(mc))"
   ]
  },
  {
   "cell_type": "code",
   "execution_count": 80,
   "metadata": {},
   "outputs": [
    {
     "name": "stdout",
     "output_type": "stream",
     "text": [
      "2 Hidden Layers - 5 neuronios: 0.89\n",
      "MATRIX CONFUSÃO\n",
      "[[171  17]\n",
      " [ 27 185]]\n"
     ]
    }
   ],
   "source": [
    "mc = confusion_matrix(y_test, y_predicao3)\n",
    "print( '2 Hidden Layers - 5 neuronios: ' + str(score_2_5))\n",
    "print( 'MATRIX CONFUSÃO')\n",
    "print( str(mc))"
   ]
  },
  {
   "cell_type": "code",
   "execution_count": 81,
   "metadata": {},
   "outputs": [
    {
     "name": "stdout",
     "output_type": "stream",
     "text": [
      "2 Hidden Layers - 9 neuronios: 0.97\n",
      "MATRIX CONFUSÃO\n",
      "[[184   4]\n",
      " [  8 204]]\n"
     ]
    }
   ],
   "source": [
    "mc = confusion_matrix(y_test, y_predicao4)\n",
    "print( '2 Hidden Layers - 9 neuronios: ' + str(score_2_9))\n",
    "print( 'MATRIX CONFUSÃO')\n",
    "print( str(mc))"
   ]
  },
  {
   "cell_type": "code",
   "execution_count": 82,
   "metadata": {},
   "outputs": [
    {
     "name": "stdout",
     "output_type": "stream",
     "text": [
      "2 Hidden Layers - 30 neuronios: 0.97\n",
      "MATRIX CONFUSÃO\n",
      "[[184   4]\n",
      " [  8 204]]\n"
     ]
    }
   ],
   "source": [
    "mc = confusion_matrix(y_test, y_predicao5)\n",
    "print( '2 Hidden Layers - 30 neuronios: ' + str(score_2_30))\n",
    "print( 'MATRIX CONFUSÃO')\n",
    "print( str(mc))"
   ]
  },
  {
   "cell_type": "markdown",
   "metadata": {},
   "source": [
    "Agora será utilizado um conjunto 5000 objetos"
   ]
  },
  {
   "cell_type": "code",
   "execution_count": 83,
   "metadata": {},
   "outputs": [
    {
     "data": {
      "text/plain": [
       "<module 'matplotlib.pyplot' from 'C:\\\\Users\\\\Tiago-note\\\\Anaconda3\\\\lib\\\\site-packages\\\\matplotlib\\\\pyplot.py'>"
      ]
     },
     "execution_count": 83,
     "metadata": {},
     "output_type": "execute_result"
    },
    {
     "data": {
      "image/png": "[encoded data removed]",
      "text/plain": [
       "<Figure size 432x288 with 1 Axes>"
      ]
     },
     "metadata": {
      "needs_background": "light"
     },
     "output_type": "display_data"
    }
   ],
   "source": [
    "# Gerando dataset não linear\n",
    "X, y = make_moons(n_samples=5000, noise=0.13)\n",
    "# scatter plot, dots colored by class value\n",
    "df_data = DataFrame(dict(x=X[:,0], y=X[:,1], label=y))\n",
    "colors = {0:'red', 1:'blue'}\n",
    "fig, ax = pyplot.subplots()\n",
    "df_agrupado = df_data.groupby('label')\n",
    "for key, group in df_agrupado:\n",
    "    group.plot(ax=ax, kind='scatter', x='x', y='y', label=key, color=colors[key])\n",
    "    \n",
    "    \n",
    "pyplot"
   ]
  },
  {
   "cell_type": "code",
   "execution_count": 84,
   "metadata": {},
   "outputs": [],
   "source": [
    "y = df_data['label']\n",
    "x = df_data.drop(['label'], axis=1)"
   ]
  },
  {
   "cell_type": "code",
   "execution_count": 85,
   "metadata": {},
   "outputs": [],
   "source": [
    "#separação dos dados de treino e teste\n",
    "x_train, x_test, y_train, y_test = train_test_split(x,y, test_size= 0.40, random_state=35)"
   ]
  },
  {
   "cell_type": "code",
   "execution_count": 86,
   "metadata": {},
   "outputs": [
    {
     "name": "stdout",
     "output_type": "stream",
     "text": [
      "1 Hidden Layers - 2 neuronios: 0.515\n"
     ]
    }
   ],
   "source": [
    "# 1 hidden layers com 2 neuronios\n",
    "classificador = MLPClassifier( solver='sgd', alpha=1e-5, hidden_layer_sizes=(2), max_iter=5000, random_state=1 )\n",
    "#treinando\n",
    "classificador.fit(x_train,y_train)\n",
    "\n",
    "#realizando a predição para poder verificar o score do modelo\n",
    "y_predicao1 = classificador.predict( x_test )\n",
    "\n",
    "#claculando o score\n",
    "score_1_2 = accuracy_score(y_test, y_predicao1)\n",
    "\n",
    "print( '1 Hidden Layers - 2 neuronios: ' + str(score_1_2))"
   ]
  },
  {
   "cell_type": "code",
   "execution_count": 87,
   "metadata": {},
   "outputs": [
    {
     "name": "stdout",
     "output_type": "stream",
     "text": [
      "1 Hidden Layers - 5 neuronios: 0.884\n"
     ]
    }
   ],
   "source": [
    "# 1 hidden layers com 5 neuronios\n",
    "classificador = MLPClassifier( solver='sgd', alpha=1e-5, hidden_layer_sizes=(5,), max_iter=5000, random_state=1 )\n",
    "#treinando\n",
    "classificador.fit(x_train,y_train)\n",
    "\n",
    "#realizando a predição para poder verificar o score do modelo\n",
    "y_predicao2 = classificador.predict( x_test )\n",
    "\n",
    "#claculando o score\n",
    "score_1_5 = accuracy_score(y_test, y_predicao2)\n",
    "\n",
    "print( '1 Hidden Layers - 5 neuronios: ' + str(score_1_5))"
   ]
  },
  {
   "cell_type": "code",
   "execution_count": 88,
   "metadata": {},
   "outputs": [
    {
     "name": "stdout",
     "output_type": "stream",
     "text": [
      "2 Hidden Layers - 5 neuronios: 0.8975\n"
     ]
    }
   ],
   "source": [
    "# 2 hidden layers com 5 neuronios\n",
    "classificador = MLPClassifier( solver='sgd', alpha=1e-5, hidden_layer_sizes=(5, 5), max_iter=5000, random_state=1 )\n",
    "#treinando\n",
    "classificador.fit(x_train,y_train)\n",
    "\n",
    "#realizando a predição para poder verificar o score do modelo\n",
    "y_predicao3 = classificador.predict( x_test )\n",
    "\n",
    "#claculando o score\n",
    "score_2_5 = accuracy_score(y_test, y_predicao3)\n",
    "\n",
    "print( '2 Hidden Layers - 5 neuronios: ' + str(score_2_5))"
   ]
  },
  {
   "cell_type": "code",
   "execution_count": 89,
   "metadata": {},
   "outputs": [
    {
     "name": "stdout",
     "output_type": "stream",
     "text": [
      "2 Hidden Layers - 9 neuronios: 0.9935\n"
     ]
    }
   ],
   "source": [
    "# 2 hidden layers com 9 neuronios\n",
    "classificador = MLPClassifier( solver='sgd', alpha=1e-5, hidden_layer_sizes=(9, 9), max_iter=5000, random_state=1 )\n",
    "#treinando\n",
    "classificador.fit(x_train,y_train)\n",
    "\n",
    "#realizando a predição para poder verificar o score do modelo\n",
    "y_predicao4 = classificador.predict( x_test )\n",
    "\n",
    "#claculando o score\n",
    "score_2_9 = accuracy_score(y_test, y_predicao4)\n",
    "\n",
    "print( '2 Hidden Layers - 9 neuronios: ' + str(score_2_9))"
   ]
  },
  {
   "cell_type": "code",
   "execution_count": 90,
   "metadata": {},
   "outputs": [
    {
     "name": "stdout",
     "output_type": "stream",
     "text": [
      "2 Hidden Layers - 30 neuronios: 0.992\n"
     ]
    }
   ],
   "source": [
    "# 2 hidden layers com 30 neuronios\n",
    "classificador = MLPClassifier( solver='sgd', alpha=1e-5, hidden_layer_sizes=(30, 30), max_iter=5000, random_state=1 )\n",
    "#treinando\n",
    "classificador.fit(x_train,y_train)\n",
    "\n",
    "#realizando a predição para poder verificar o score do modelo\n",
    "y_predicao5 = classificador.predict( x_test )\n",
    "\n",
    "#claculando o score\n",
    "score_2_30 = accuracy_score(y_test, y_predicao5)\n",
    "\n",
    "print( '2 Hidden Layers - 30 neuronios: ' + str(score_2_30))"
   ]
  },
  {
   "cell_type": "markdown",
   "metadata": {},
   "source": [
    "Foram gerados 5 MLPs diferentes para 5000 objetos:\n",
    "- (2)\n",
    "- (5)\n",
    "- (5,5)\n",
    "- (9,9)\n",
    "- (30,30)\n",
    "\n",
    "A seguir estão apresentados os valores do score e os erros apresentados na forma de matriz de confusão para cada um dos MLPs:"
   ]
  },
  {
   "cell_type": "code",
   "execution_count": 91,
   "metadata": {},
   "outputs": [
    {
     "name": "stdout",
     "output_type": "stream",
     "text": [
      "1 Hidden Layers - 2 neuronios: 0.515\n",
      "1 Hidden Layers - 5 neuronios: 0.884\n",
      "2 Hidden Layers - 5 neuronios: 0.8975\n",
      "2 Hidden Layers - 9 neuronios: 0.9935\n",
      "2 Hidden Layers - 30 neuronios: 0.992\n"
     ]
    }
   ],
   "source": [
    "#score de todos modelos\n",
    "print( '1 Hidden Layers - 2 neuronios: ' + str(score_1_2))\n",
    "print( '1 Hidden Layers - 5 neuronios: ' + str(score_1_5))\n",
    "print( '2 Hidden Layers - 5 neuronios: ' + str(score_2_5))\n",
    "print( '2 Hidden Layers - 9 neuronios: ' + str(score_2_9))\n",
    "print( '2 Hidden Layers - 30 neuronios: ' + str(score_2_30))"
   ]
  },
  {
   "cell_type": "code",
   "execution_count": 92,
   "metadata": {},
   "outputs": [
    {
     "name": "stdout",
     "output_type": "stream",
     "text": [
      "1 Hidden Layers - 2 neuronios: 0.515\n",
      "MATRIX CONFUSÃO\n",
      "[[1030    0]\n",
      " [ 970    0]]\n"
     ]
    }
   ],
   "source": [
    "mc = confusion_matrix(y_test, y_predicao1)\n",
    "print( '1 Hidden Layers - 2 neuronios: ' + str(score_1_2))\n",
    "print( 'MATRIX CONFUSÃO')\n",
    "print( str(mc))"
   ]
  },
  {
   "cell_type": "code",
   "execution_count": 93,
   "metadata": {},
   "outputs": [
    {
     "name": "stdout",
     "output_type": "stream",
     "text": [
      "1 Hidden Layers - 5 neuronios: 0.884\n",
      "MATRIX CONFUSÃO\n",
      "[[900 130]\n",
      " [102 868]]\n"
     ]
    }
   ],
   "source": [
    "mc = confusion_matrix(y_test, y_predicao2)\n",
    "print( '1 Hidden Layers - 5 neuronios: ' + str(score_1_5))\n",
    "print( 'MATRIX CONFUSÃO')\n",
    "print( str(mc))"
   ]
  },
  {
   "cell_type": "code",
   "execution_count": 94,
   "metadata": {},
   "outputs": [
    {
     "name": "stdout",
     "output_type": "stream",
     "text": [
      "2 Hidden Layers - 5 neuronios: 0.8975\n",
      "MATRIX CONFUSÃO\n",
      "[[902 128]\n",
      " [ 77 893]]\n"
     ]
    }
   ],
   "source": [
    "mc = confusion_matrix(y_test, y_predicao3)\n",
    "print( '2 Hidden Layers - 5 neuronios: ' + str(score_2_5))\n",
    "print( 'MATRIX CONFUSÃO')\n",
    "print( str(mc))"
   ]
  },
  {
   "cell_type": "code",
   "execution_count": 95,
   "metadata": {},
   "outputs": [
    {
     "name": "stdout",
     "output_type": "stream",
     "text": [
      "2 Hidden Layers - 9 neuronios: 0.9935\n",
      "MATRIX CONFUSÃO\n",
      "[[1022    8]\n",
      " [   5  965]]\n"
     ]
    }
   ],
   "source": [
    "mc = confusion_matrix(y_test, y_predicao4)\n",
    "print( '2 Hidden Layers - 9 neuronios: ' + str(score_2_9))\n",
    "print( 'MATRIX CONFUSÃO')\n",
    "print( str(mc))"
   ]
  },
  {
   "cell_type": "code",
   "execution_count": 96,
   "metadata": {},
   "outputs": [
    {
     "name": "stdout",
     "output_type": "stream",
     "text": [
      "2 Hidden Layers - 30 neuronios: 0.992\n",
      "MATRIX CONFUSÃO\n",
      "[[1020   10]\n",
      " [   6  964]]\n"
     ]
    }
   ],
   "source": [
    "mc = confusion_matrix(y_test, y_predicao5)\n",
    "print( '2 Hidden Layers - 30 neuronios: ' + str(score_2_30))\n",
    "print( 'MATRIX CONFUSÃO')\n",
    "print( str(mc))"
   ]
  },
  {
   "cell_type": "code",
   "execution_count": null,
   "metadata": {},
   "outputs": [],
   "source": []
  },
  {
   "cell_type": "code",
   "execution_count": null,
   "metadata": {},
   "outputs": [],
   "source": []
  }
 ],
 "metadata": {
  "kernelspec": {
   "display_name": "Python 3",
   "language": "python",
   "name": "python3"
  },
  "language_info": {
   "codemirror_mode": {
    "name": "ipython",
    "version": 3
   },
   "file_extension": ".py",
   "mimetype": "text/x-python",
   "name": "python",
   "nbconvert_exporter": "python",
   "pygments_lexer": "ipython3",
   "version": "3.7.3"
  }
 },
 "nbformat": 4,
 "nbformat_minor": 2
}
